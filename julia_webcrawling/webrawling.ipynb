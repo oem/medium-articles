{
 "cells": [
  {
   "cell_type": "markdown",
   "metadata": {},
   "source": [
    "# Crawling the Web with julia\n",
    "\n",
    "## Motivation\n",
    "\n",
    "## Concrete example\n",
    "\n",
    "For me currently, this is the Covid-19 pandemic. And more specifically, how is it developing close to me. In my case, that means the city of Hamburg in Germany.\n",
    "\n",
    "There is the official website of the city, that has a page for the covid-19 numbers, (hamburg.de)[https://www.hamburg.de/corona-zahlen/].\n",
    "\n",
    "The page with the numbers is in german, but don't worry, that's what our webcrawler will hopefully help us with - we can get to the numbers without reading all surrounding text. I will try to help out and translate what is relevant, but that will only be a minor detail when we try to find the right text to extract from."
   ]
  },
  {
   "cell_type": "code",
   "execution_count": null,
   "metadata": {},
   "outputs": [],
   "source": []
  }
 ],
 "metadata": {
  "kernelspec": {
   "display_name": "Julia 1.4.2",
   "language": "julia",
   "name": "julia-1.4"
  },
  "language_info": {
   "file_extension": ".jl",
   "mimetype": "application/julia",
   "name": "julia",
   "version": "1.4.2"
  }
 },
 "nbformat": 4,
 "nbformat_minor": 4
}
