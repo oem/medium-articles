{
 "cells": [
  {
   "cell_type": "markdown",
   "metadata": {},
   "source": [
    "# Zombie wasps, a pandemic, webcrawlers and julia\n",
    "\n",
    "## TL;DR\n",
    "\n",
    "How to build a webcrawler in julia.\n",
    "\n",
    "## Motivation\n",
    "\n",
    "The web is full of interesting bits and pieces of information. Maybe it's the current weather, stock prices, or the wikipedia article about the [wasp that goes all alien parasite facehugger on other insects](https://en.wikipedia.org/wiki/Emerald_cockroach_wasp), which you vaguely remember from one of those late night documentaries (yeah... already sorry you are reading this?). \n",
    "\n",
    "## Concrete example\n",
    "\n",
    "For me, currently, this is the Covid-19 pandemic. And more specifically, how is it developing close to me. In my case, that means the city of Hamburg in Germany.\n",
    "\n",
    "Chances are, these specific numbers are not relevant to you. But that is a good thing, you can use what you learned here and mine the website of your home city maybe. Nothing helps your brain to learn new things than generalizing the new skills and using them to solve related problems!\n",
    "\n",
    "There is the official website of the city, that has a page for the covid-19 numbers, [hamburg.de](https://www.hamburg.de/corona-zahlen/).\n",
    "\n",
    "The page with the numbers is in german, but don't worry, that's what our webcrawler will hopefully help us with - we can get to the numbers without having to understand all surrounding text. I will try to help out and translate what is relevant, but that will only be a minor detail when we try to find the right text to extract from."
   ]
  },
  {
   "cell_type": "code",
   "execution_count": 21,
   "metadata": {},
   "outputs": [],
   "source": [
    "using HTTP"
   ]
  },
  {
   "cell_type": "code",
   "execution_count": 22,
   "metadata": {},
   "outputs": [
    {
     "data": {
      "text/plain": [
       "\"https://www.hamburg.de/corona-zahlen\""
      ]
     },
     "execution_count": 22,
     "metadata": {},
     "output_type": "execute_result"
    }
   ],
   "source": [
    "url = \"https://www.hamburg.de/corona-zahlen\""
   ]
  },
  {
   "cell_type": "markdown",
   "metadata": {},
   "source": [
    "css selectors\n",
    "\n",
    "Actually, they might be called query selectors, but everyone just calls them css selectors... Oh look, a pack of wild frontenders! Hmm, what are they doing, are they encircling us? They do look kinda angry, don't they? I guess they just tried to vertically align some div the whole day or something. Ok, I guess we should leave now."
   ]
  },
  {
   "cell_type": "code",
   "execution_count": 23,
   "metadata": {},
   "outputs": [],
   "source": [
    "using Gumbo, Cascadia\n",
    "using Cascadia: matchFirst"
   ]
  },
  {
   "cell_type": "code",
   "execution_count": 24,
   "metadata": {},
   "outputs": [
    {
     "data": {
      "text/plain": [
       "HTML Document:\n",
       "<!DOCTYPE >\n",
       "HTMLElement{:HTML}:<HTML lang=\"de\">\n",
       "  <head></head>\n",
       "  <body class=\"no-ads\">\n",
       "    HTTP/1.1 200 OK\n",
       "    ServerHost: apache/portal5\n",
       "    X-Frame-Options: SAMEORIGIN\n",
       "    Access-Control-Allow-Origin: *\n",
       "    Content-Type: text/html;charset=UTF-8\n",
       "    Content-Language: de-DE\n",
       "    Date: Sat, 01 Aug 2020 15:36:35 GMT\n",
       "    Transfer-Encoding: chunked\n",
       "    Connection: keep-alive, Transfer-Encoding\n",
       "    Set-Cookie: JSESSIONID=8993885172B1E5ABA55BDDCEA3BC571D.liveWorker2; Path=/; HttpOnly\n",
       "    Set-Cookie: content=13907680; Path=/servlet/segment/de/corona-zahlen/\n",
       "    Set-Cookie: BIGipServerv5-webstatic-80-12-cm7=201658796.20480.0000; path=/; Httponly; Secure\n",
       "    <meta content=\"IE=edge\" http-equiv=\"X-UA-Compatible\"/>\n",
       "    <meta charset=\"utf-8\"/>\n",
       "    <meta content=\"text/html\" http-equiv=\"content-type\"/>\n",
       "    <script type=\"text/javascript\">window.JS_LANG='de';    </script>\n",
       "    <meta content=\"width=device-width, initial-scale=1.0\" name=\"viewport\"/>\n",
       "...\n"
      ]
     },
     "execution_count": 24,
     "metadata": {},
     "output_type": "execute_result"
    }
   ],
   "source": [
    "response = HTTP.get(url)\n",
    "html = parsehtml(String(response))"
   ]
  },
  {
   "cell_type": "code",
   "execution_count": 11,
   "metadata": {},
   "outputs": [
    {
     "data": {
      "text/plain": [
       "3-element Array{HTMLNode,1}:\n",
       " HTMLElement{:li}:<li>\n",
       "  <span style=\"display:inline-block;width:.7em;height:.7em;margin-right:5px;background-color:#003063\"></span>\n",
       "  Bestätigte Fälle 5401\n",
       "</li>\n",
       "\n",
       "\n",
       " HTMLElement{:li}:<li>\n",
       "  <span style=\"display:inline-block;width:.7em;height:.7em;margin-right:5px;background-color:#009933\"></span>\n",
       "  Davon geheilt 5000\n",
       "</li>\n",
       "\n",
       "\n",
       " HTMLElement{:li}:<li>\n",
       "  <span style=\"display:inline-block;width:.7em;height:.7em;margin-right:5px;background-color:#005ca9\"></span>\n",
       "  Neuinfektionen 16\n",
       "</li>\n",
       "\n"
      ]
     },
     "execution_count": 11,
     "metadata": {},
     "output_type": "execute_result"
    }
   ],
   "source": [
    "eachmatch(sel\".c_chart.one .chart_legend li\", html.root)"
   ]
  },
  {
   "cell_type": "code",
   "execution_count": 18,
   "metadata": {},
   "outputs": [
    {
     "data": {
      "text/plain": [
       "RegexMatch(\"16\")"
      ]
     },
     "execution_count": 18,
     "metadata": {},
     "output_type": "execute_result"
    }
   ],
   "source": [
    "match(r\"\\d+\", \"Neuinfektionen 16\")"
   ]
  },
  {
   "cell_type": "code",
   "execution_count": 19,
   "metadata": {},
   "outputs": [
    {
     "data": {
      "text/plain": [
       "\"16\""
      ]
     },
     "execution_count": 19,
     "metadata": {},
     "output_type": "execute_result"
    }
   ],
   "source": [
    "match(r\"\\d+\", \"Neuinfektionen 16\").match"
   ]
  },
  {
   "cell_type": "code",
   "execution_count": 20,
   "metadata": {},
   "outputs": [
    {
     "data": {
      "text/plain": [
       "16"
      ]
     },
     "execution_count": 20,
     "metadata": {},
     "output_type": "execute_result"
    }
   ],
   "source": [
    "parse(Int, match(r\"\\d+\", \"Neuinfektionen 16\").match)"
   ]
  },
  {
   "cell_type": "code",
   "execution_count": 12,
   "metadata": {},
   "outputs": [
    {
     "data": {
      "text/plain": [
       "parsenumbers (generic function with 1 method)"
      ]
     },
     "execution_count": 12,
     "metadata": {},
     "output_type": "execute_result"
    }
   ],
   "source": [
    "function parsenumbers(el)\n",
    "    text = el[2].text\n",
    "    parse(Int, match(r\"\\d+\", text).match)\n",
    "end"
   ]
  },
  {
   "cell_type": "code",
   "execution_count": 13,
   "metadata": {},
   "outputs": [
    {
     "data": {
      "text/plain": [
       "3-element Array{Int64,1}:\n",
       " 5401\n",
       " 5000\n",
       "   16"
      ]
     },
     "execution_count": 13,
     "metadata": {},
     "output_type": "execute_result"
    }
   ],
   "source": [
    "map(parsenumbers, eachmatch(sel\".c_chart.one .chart_legend li\", html.root))"
   ]
  },
  {
   "cell_type": "markdown",
   "metadata": {},
   "source": [
    "### The end! Right?"
   ]
  },
  {
   "cell_type": "markdown",
   "metadata": {},
   "source": [
    "## One more crawler"
   ]
  },
  {
   "cell_type": "code",
   "execution_count": null,
   "metadata": {},
   "outputs": [],
   "source": []
  }
 ],
 "metadata": {
  "kernelspec": {
   "display_name": "Julia 1.4.2",
   "language": "julia",
   "name": "julia-1.4"
  },
  "language_info": {
   "file_extension": ".jl",
   "mimetype": "application/julia",
   "name": "julia",
   "version": "1.4.2"
  }
 },
 "nbformat": 4,
 "nbformat_minor": 4
}
