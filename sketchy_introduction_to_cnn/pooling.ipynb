{
 "cells": [
  {
   "cell_type": "markdown",
   "metadata": {},
   "source": [
    "# How pooling can help\n",
    "\n",
    "This is a complementary notebook to the [medium article](https://medium.com/@oem_83498/a-sketchy-introduction-to-convolutional-neural-nets-68aee726fbd1) describing convolutional neural nets.\n",
    "\n",
    "Specifically, this notebook tries to demonstrate how useful and essential pooling is in CNNs. You can find more details in the medium article."
   ]
  },
  {
   "cell_type": "code",
   "execution_count": 1,
   "metadata": {},
   "outputs": [
    {
     "name": "stderr",
     "output_type": "stream",
     "text": [
      "Using TensorFlow backend.\n"
     ]
    }
   ],
   "source": [
    "# load dependencies\n",
    "import unittest\n",
    "import numpy as np\n",
    "from keras.models import Sequential\n",
    "from keras.layers import Conv2D, MaxPooling2D, Flatten, Dense, Dropout\n",
    "from keras.utils import to_categorical"
   ]
  },
  {
   "cell_type": "code",
   "execution_count": 2,
   "metadata": {},
   "outputs": [],
   "source": [
    "def create_data():\n",
    "    data = [[0, 0, 0, 0, 0],\n",
    "            [0, 0, 0, 0, 0],\n",
    "            [0, 0, 1, 0, 0],\n",
    "            [0, 0, 1, 1, 0],\n",
    "            [0, 0, 0, 0, 0]]\n",
    "    data = np.asarray(data)\n",
    "    data = data.reshape(1, 5, 5, 1)\n",
    "    \n",
    "    label = np.asarray([[1]])\n",
    "    \n",
    "    return data, label"
   ]
  },
  {
   "cell_type": "code",
   "execution_count": 3,
   "metadata": {},
   "outputs": [],
   "source": [
    "def build_filter():\n",
    "    filter = [[[[0]], [[0]], [[0]], [[0]]],\n",
    "              [[[0]], [[1]], [[0]], [[0]]],\n",
    "              [[[0]], [[1]], [[1]], [[0]]],\n",
    "              [[[0]], [[0]], [[0]], [[0]]]]\n",
    "\n",
    "    return [np.asarray(filter), np.asarray([0.0])]"
   ]
  },
  {
   "cell_type": "code",
   "execution_count": 4,
   "metadata": {},
   "outputs": [],
   "source": [
    "def define_model_without_pooling():\n",
    "    model = Sequential()\n",
    "    model.add(Conv2D(1, (4, 4), activation=\"relu\", input_shape=(5, 5, 1)))\n",
    " \n",
    "    return model"
   ]
  },
  {
   "cell_type": "code",
   "execution_count": 5,
   "metadata": {},
   "outputs": [],
   "source": [
    "def define_model_with_pooling():\n",
    "    model = Sequential()\n",
    "    model.add(Conv2D(1, (4, 4), activation=\"relu\", input_shape=(5, 5, 1)))\n",
    "    model.add(MaxPooling2D((2,2), strides=(1,1), padding=\"same\"))\n",
    " \n",
    "    return model"
   ]
  },
  {
   "cell_type": "code",
   "execution_count": 6,
   "metadata": {},
   "outputs": [
    {
     "data": {
      "text/plain": [
       "array([[[[1.],\n",
       "         [1.]],\n",
       "\n",
       "        [[1.],\n",
       "         [3.]]]], dtype=float32)"
      ]
     },
     "execution_count": 6,
     "metadata": {},
     "output_type": "execute_result"
    }
   ],
   "source": [
    "# use our handcrafted filter to create a location sensitive feature map\n",
    "model = define_model_without_pooling()\n",
    "input, _ = create_data()\n",
    "filter = build_filter()\n",
    "model.set_weights(filter)\n",
    "model.predict(input)"
   ]
  },
  {
   "cell_type": "code",
   "execution_count": 7,
   "metadata": {},
   "outputs": [
    {
     "data": {
      "text/plain": [
       "array([[[[3.],\n",
       "         [3.]],\n",
       "\n",
       "        [[3.],\n",
       "         [3.]]]], dtype=float32)"
      ]
     },
     "execution_count": 7,
     "metadata": {},
     "output_type": "execute_result"
    }
   ],
   "source": [
    "# use our handcrafted filter to see how the output of a network with pooling looks like\n",
    "model = define_model_with_pooling()\n",
    "input, _ = create_data()\n",
    "filter = build_filter()\n",
    "model.set_weights(filter)\n",
    "model.predict(input)"
   ]
  },
  {
   "cell_type": "code",
   "execution_count": 8,
   "metadata": {},
   "outputs": [],
   "source": [
    "def build_model(model):\n",
    "    model.add(Flatten())\n",
    "    model.add(Dense(1, activation=\"sigmoid\"))\n",
    "    model.compile(loss='binary_crossentropy', optimizer='rmsprop', metrics=['accuracy'])\n",
    "    filter = build_filter()\n",
    "    data, label = create_data()\n",
    "    model.layers[0].set_weights(filter)\n",
    "    model.fit(data, label, epochs=2100, verbose=False, batch_size=1)\n",
    "    return model"
   ]
  },
  {
   "cell_type": "code",
   "execution_count": 9,
   "metadata": {},
   "outputs": [],
   "source": [
    "# train the models, with and without pooling\n",
    "model_without_pooling = build_model(define_model_without_pooling())\n",
    "model_with_pooling = build_model(define_model_with_pooling())"
   ]
  },
  {
   "cell_type": "markdown",
   "metadata": {},
   "source": [
    "To prove that pooling can help with classification, we need to create input data that is spatially different.\n",
    "\n",
    "A network with pooling should perform better than a network without pooling since the pooling layer compensates for the locally sensitive"
   ]
  },
  {
   "cell_type": "code",
   "execution_count": 10,
   "metadata": {},
   "outputs": [],
   "source": [
    "def create_test_data():\n",
    "    data = [[0, 1, 0, 0, 0],\n",
    "            [0, 1, 1, 0, 0],\n",
    "            [0, 0, 0, 0, 0],\n",
    "            [0, 0, 0, 0, 0],\n",
    "            [0, 0, 0, 0, 0]]\n",
    "    data = np.asarray(data)\n",
    "    data = data.reshape(1, 5, 5, 1)\n",
    "\n",
    "    return data"
   ]
  },
  {
   "cell_type": "code",
   "execution_count": 11,
   "metadata": {},
   "outputs": [
    {
     "name": "stderr",
     "output_type": "stream",
     "text": [
      "..."
     ]
    },
    {
     "name": "stdout",
     "output_type": "stream",
     "text": [
      "w/o pooling [0.99124676]\n",
      "w pooling [0.99417853]\n"
     ]
    },
    {
     "name": "stderr",
     "output_type": "stream",
     "text": [
      "\n",
      "----------------------------------------------------------------------\n",
      "Ran 3 tests in 0.056s\n",
      "\n",
      "OK\n"
     ]
    },
    {
     "data": {
      "text/plain": [
       "<unittest.runner.TextTestResult run=3 errors=0 failures=0>"
      ]
     },
     "execution_count": 11,
     "metadata": {},
     "output_type": "execute_result"
    }
   ],
   "source": [
    "class TestPooling(unittest.TestCase):\n",
    "    data, _ = create_data()\n",
    "    test_data = create_test_data()\n",
    "\n",
    "    def test_without_pooling_predicts_on_training_well(self):\n",
    "        self.assertTrue(model_without_pooling.predict(self.data)[0] > 0.8)\n",
    "        \n",
    "    def test_with_pooling_predicts_on_training_well(self):\n",
    "        self.assertTrue(model_with_pooling.predict(self.data)[0] > 0.8)\n",
    "\n",
    "    def test_with_pooling_predicts_on_test_better_than_without_pooling(self):\n",
    "        yhat_without_pooling = model_without_pooling.predict(self.test_data)[0]\n",
    "        yhat_with_pooling = model_with_pooling.predict(self.test_data)[0]\n",
    "        print(f\"w/o pooling {yhat_without_pooling}\")\n",
    "        print(f\"w pooling {yhat_with_pooling}\")\n",
    "        self.assertTrue(yhat_with_pooling > yhat_without_pooling)\n",
    "\n",
    "loader = unittest.TestLoader()\n",
    "suite = unittest.TestSuite()\n",
    "suite.addTests(loader.loadTestsFromTestCase(TestPooling))\n",
    "\n",
    "runner = unittest.TextTestRunner()\n",
    "runner.run(suite)"
   ]
  },
  {
   "cell_type": "markdown",
   "metadata": {},
   "source": [
    "The differences in this case are minor but would be more emphasized in more complex networks and larger inputs."
   ]
  }
 ],
 "metadata": {
  "kernelspec": {
   "display_name": "Python 3",
   "language": "python",
   "name": "python3"
  },
  "language_info": {
   "codemirror_mode": {
    "name": "ipython",
    "version": 3
   },
   "file_extension": ".py",
   "mimetype": "text/x-python",
   "name": "python",
   "nbconvert_exporter": "python",
   "pygments_lexer": "ipython3",
   "version": "3.7.1"
  }
 },
 "nbformat": 4,
 "nbformat_minor": 4
}
