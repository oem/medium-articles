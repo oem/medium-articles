{
 "cells": [
  {
   "cell_type": "markdown",
   "metadata": {},
   "source": [
    "# Showing the effects of padding\n",
    "\n",
    "This is a complementary notebook to the [medium article](https://medium.com/@oem_83498/a-sketchy-introduction-to-convolutional-neural-nets-68aee726fbd1) describing convolutional neural nets.\n",
    "\n",
    "Specifically, this notebook tries to demonstrate the effects of padding, you can find more details in the medium article."
   ]
  },
  {
   "cell_type": "code",
   "execution_count": 1,
   "metadata": {},
   "outputs": [
    {
     "name": "stderr",
     "output_type": "stream",
     "text": [
      "Using TensorFlow backend.\n"
     ]
    }
   ],
   "source": [
    "# load dependencies\n",
    "import unittest\n",
    "import numpy as np\n",
    "from keras.models import Sequential\n",
    "from keras.layers import Conv2D"
   ]
  },
  {
   "cell_type": "code",
   "execution_count": 2,
   "metadata": {},
   "outputs": [],
   "source": [
    "def model_without_padding():\n",
    "    model = Sequential()\n",
    "    model.add(Conv2D(1, (4, 4), activation=\"relu\", input_shape=(5, 5, 1)))\n",
    "    model.add(Conv2D(1, (4, 4), activation=\"relu\"))\n",
    "    return model"
   ]
  },
  {
   "cell_type": "code",
   "execution_count": 3,
   "metadata": {},
   "outputs": [],
   "source": [
    "def model_with_padding():\n",
    "    model = Sequential()\n",
    "    model.add(Conv2D(1, (4, 4), activation=\"relu\", padding=\"same\", input_shape=(5, 5, 1)))\n",
    "    model.add(Conv2D(1, (4, 4), activation=\"relu\"))\n",
    "    return model"
   ]
  },
  {
   "cell_type": "markdown",
   "metadata": {},
   "source": [
    "### Tests\n",
    "\n",
    "The first test proves that keras will raise a **ValueError**.\n",
    "\n",
    "Keras has enough information to introspect the network and realizing that the output shape of the first layer **(2, 2, 1)** will not work with the filter size of the next layer **(4, 4)**.\n",
    "\n",
    "The second test proves that this problem will not occur when using padding: The output shape of the first layer is the *same* as its input shape, hence the value \"same\" for the padding parameter."
   ]
  },
  {
   "cell_type": "code",
   "execution_count": 4,
   "metadata": {},
   "outputs": [
    {
     "name": "stderr",
     "output_type": "stream",
     "text": [
      "..\n",
      "----------------------------------------------------------------------\n",
      "Ran 2 tests in 0.078s\n",
      "\n",
      "OK\n"
     ]
    },
    {
     "data": {
      "text/plain": [
       "<unittest.runner.TextTestResult run=2 errors=0 failures=0>"
      ]
     },
     "execution_count": 4,
     "metadata": {},
     "output_type": "execute_result"
    }
   ],
   "source": [
    "class TestPadding(unittest.TestCase):\n",
    "    def test_without_padding(self):\n",
    "        self.assertRaises(ValueError, model_without_padding)\n",
    "        \n",
    "    def test_with_padding(self):\n",
    "        try:\n",
    "            model_with_padding()\n",
    "        except ValueError:\n",
    "            self.fail(\"model_with_padding() raised ValueError\")\n",
    "            \n",
    "suite = unittest.TestSuite()\n",
    "loader = unittest.TestLoader()\n",
    "suite.addTests(loader.loadTestsFromTestCase(TestPadding))\n",
    "\n",
    "runner = unittest.TextTestRunner()\n",
    "runner.run(suite)"
   ]
  },
  {
   "cell_type": "code",
   "execution_count": 5,
   "metadata": {},
   "outputs": [
    {
     "name": "stdout",
     "output_type": "stream",
     "text": [
      "Model: \"sequential_3\"\n",
      "_________________________________________________________________\n",
      "Layer (type)                 Output Shape              Param #   \n",
      "=================================================================\n",
      "conv2d_5 (Conv2D)            (None, 5, 5, 1)           17        \n",
      "_________________________________________________________________\n",
      "conv2d_6 (Conv2D)            (None, 2, 2, 1)           17        \n",
      "=================================================================\n",
      "Total params: 34\n",
      "Trainable params: 34\n",
      "Non-trainable params: 0\n",
      "_________________________________________________________________\n"
     ]
    }
   ],
   "source": [
    "model = model_with_padding()\n",
    "model.summary()"
   ]
  },
  {
   "cell_type": "markdown",
   "metadata": {},
   "source": [
    "We can see that the output shape of the first layer is the same as the original input shape **(5, 5, 1)**."
   ]
  }
 ],
 "metadata": {
  "kernelspec": {
   "display_name": "Python 3",
   "language": "python",
   "name": "python3"
  },
  "language_info": {
   "codemirror_mode": {
    "name": "ipython",
    "version": 3
   },
   "file_extension": ".py",
   "mimetype": "text/x-python",
   "name": "python",
   "nbconvert_exporter": "python",
   "pygments_lexer": "ipython3",
   "version": "3.7.1"
  }
 },
 "nbformat": 4,
 "nbformat_minor": 4
}
